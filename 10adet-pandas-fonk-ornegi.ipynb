{
 "cells": [
  {
   "cell_type": "code",
   "execution_count": 30,
   "id": "7f5cd1b9-3b88-4f6c-87c3-e423f96619bb",
   "metadata": {},
   "outputs": [
    {
     "name": "stdout",
     "output_type": "stream",
     "text": [
      "   A   B\n",
      "0  5  11\n",
      "1  6  12\n",
      "2  7  13\n"
     ]
    }
   ],
   "source": [
    "## ilk n satirini getirir\n",
    "import pandas as pd\n",
    "df =pd.DataFrame({ 'A' : [5,6,7,8,9,10] , 'B' : [11,12,13,14,15,16] }) \n",
    "print(df.head(3)) #ilk 3 satiri getirecek\n"
   ]
  },
  {
   "cell_type": "code",
   "execution_count": 20,
   "id": "0f6fe2a4-280c-4b87-ab9d-8108746a0e4a",
   "metadata": {},
   "outputs": [
    {
     "name": "stdout",
     "output_type": "stream",
     "text": [
      "    A   B\n",
      "4   9  15\n",
      "5  10  16\n"
     ]
    }
   ],
   "source": [
    "print(df.tail(2)) #son 1 satiri getirecek"
   ]
  },
  {
   "cell_type": "code",
   "execution_count": 36,
   "id": "419d444f-b0d5-4cc6-86d7-d812c6592fde",
   "metadata": {},
   "outputs": [
    {
     "name": "stdout",
     "output_type": "stream",
     "text": [
      "   Column1  Column2\n",
      "0        5       11\n",
      "1        6       12\n",
      "2        7       13\n",
      "3        8       14\n",
      "4        9       15\n",
      "5       10       16\n"
     ]
    }
   ],
   "source": [
    "## rename() -Sütun veya indeks adlarını değiştirme \n",
    "import pandas as pd\n",
    "df =pd.DataFrame({ 'A' : [5,6,7,8,9,10] , 'B' : [11,12,13,14,15,16 ] }) \n",
    "df_renamed = df.rename(columns = {'A' : 'Column1', 'B' : 'Column2'})\n",
    "print(df_renamed)"
   ]
  },
  {
   "cell_type": "code",
   "execution_count": 38,
   "id": "a0a66796-2d7e-432b-9b4b-419f6f0f38ac",
   "metadata": {},
   "outputs": [
    {
     "name": "stdout",
     "output_type": "stream",
     "text": [
      "0    False\n",
      "1    False\n",
      "2    False\n",
      "3    False\n",
      "4    False\n",
      "5    False\n",
      "dtype: bool\n"
     ]
    }
   ],
   "source": [
    "## duplicated()- yenilenen satırı kontrol etme\n",
    "df =pd.DataFrame({ 'A' : [5,6,7,8,9,10] , 'B' : [11,12,13,14,15,16 ] })\n",
    "print(df.duplicated())"
   ]
  },
  {
   "cell_type": "code",
   "execution_count": 22,
   "id": "8396822d-7e21-47c6-9655-adfb84db6c6a",
   "metadata": {},
   "outputs": [
    {
     "name": "stdout",
     "output_type": "stream",
     "text": [
      "    A   B\n",
      "5  10  16\n",
      "4   9  15\n",
      "3   8  14\n",
      "2   7  13\n",
      "1   6  12\n",
      "0   5  11\n"
     ]
    }
   ],
   "source": [
    "#sort_values()- verileri belirli bir sütuna göre sıralama\n",
    "df_sorted= df.sort_values(by='B' , ascending=False)\n",
    "print(df_sorted)\n"
   ]
  },
  {
   "cell_type": "code",
   "execution_count": 44,
   "id": "5b972879-b029-4956-8107-1592bad6e616",
   "metadata": {},
   "outputs": [
    {
     "name": "stdout",
     "output_type": "stream",
     "text": [
      "    A\n",
      "9  10\n",
      "5   6\n"
     ]
    }
   ],
   "source": [
    "## sample() - rastgele satir seçeçek\n",
    "df = pd.DataFrame({'A' : range(1,15)})\n",
    "df_sample = df.sample(n=2) # restgele 2 satir seçecek 1 ile 15 arasında\n",
    "print(df_sample)"
   ]
  },
  {
   "cell_type": "code",
   "execution_count": 46,
   "id": "3244631d-9924-4e8d-a7b9-8ce2b36cd051",
   "metadata": {},
   "outputs": [
    {
     "name": "stdout",
     "output_type": "stream",
     "text": [
      "A    int32\n",
      "dtype: object\n"
     ]
    }
   ],
   "source": [
    "## astype() -Veri tipini degistirme\n",
    "df= pd.DataFrame({'A' : ['5' ,'6' ,'7']})\n",
    "df['A'] = df['A'].astype(int) \n",
    "print(df.dtypes)"
   ]
  },
  {
   "cell_type": "code",
   "execution_count": 58,
   "id": "16058fa3-9433-4413-80ff-a62755c21f92",
   "metadata": {},
   "outputs": [
    {
     "name": "stdout",
     "output_type": "stream",
     "text": [
      "0  A     5\n",
      "   B    11\n",
      "1  A     6\n",
      "   B    12\n",
      "2  A     7\n",
      "   B    13\n",
      "3  A     8\n",
      "   B    14\n",
      "4  A     9\n",
      "   B    15\n",
      "5  A    10\n",
      "   B    16\n",
      "dtype: int64\n"
     ]
    }
   ],
   "source": [
    "## stack() - sütunları satır yapacak\n",
    "df =pd.DataFrame({ 'A' : [5,6,7,8,9,10] , 'B' : [11,12,13,14,15,16 ] })\n",
    "df_stacked =df.stack()\n",
    "print(df_stacked)"
   ]
  },
  {
   "cell_type": "code",
   "execution_count": 54,
   "id": "5c98f753-9a9b-4b3a-bc87-fd3e627b09a4",
   "metadata": {},
   "outputs": [
    {
     "name": "stdout",
     "output_type": "stream",
     "text": [
      "    A   B\n",
      "0   5  11\n",
      "1   6  12\n",
      "2   7  13\n",
      "3   8  14\n",
      "4   9  15\n",
      "5  10  16\n"
     ]
    }
   ],
   "source": [
    "## unstack()-satirlari sütun yapacak\n",
    "df =pd.DataFrame({ 'A' : [5,6,7,8,9,10] , 'B' : [11,12,13,14,15,16 ] })\n",
    "df_unstack=df_stacked.unstack()\n",
    "print(df_unstack)"
   ]
  },
  {
   "cell_type": "code",
   "execution_count": 60,
   "id": "ed28249e-9bff-42ad-9649-66875a66ba14",
   "metadata": {},
   "outputs": [
    {
     "name": "stdout",
     "output_type": "stream",
     "text": [
      "   A   B   C\n",
      "0  5  11  16\n",
      "1  6  12  18\n",
      "2  7  13  20\n"
     ]
    }
   ],
   "source": [
    "## eval()- matematiksel işlemleri uygular\n",
    "df= pd.DataFrame({ 'A' : [5,6,7], 'B' : [11,12,13]})\n",
    "df['C'] =df.eval('A +B') \n",
    "print(df)"
   ]
  },
  {
   "cell_type": "code",
   "execution_count": 64,
   "id": "daa2d0ff-56d0-42f1-a010-0ed2a7016538",
   "metadata": {},
   "outputs": [
    {
     "name": "stdout",
     "output_type": "stream",
     "text": [
      "    A\n",
      "5  99\n",
      "4  50\n",
      "    A\n",
      "0  15\n",
      "1  20\n"
     ]
    }
   ],
   "source": [
    "## nlargest() ve nsmallest() \n",
    "df =pd.DataFrame({ 'A' : [15,20,30,45,50,99] })\n",
    "print(df.nlargest(2,'A'))\n",
    "print(df.nsmallest(2,'A'))\n"
   ]
  }
 ],
 "metadata": {
  "kernelspec": {
   "display_name": "Python [conda env:base] *",
   "language": "python",
   "name": "conda-base-py"
  },
  "language_info": {
   "codemirror_mode": {
    "name": "ipython",
    "version": 3
   },
   "file_extension": ".py",
   "mimetype": "text/x-python",
   "name": "python",
   "nbconvert_exporter": "python",
   "pygments_lexer": "ipython3",
   "version": "3.12.7"
  }
 },
 "nbformat": 4,
 "nbformat_minor": 5
}
